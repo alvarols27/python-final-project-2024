{
 "cells": [
  {
   "cell_type": "code",
   "execution_count": null,
   "id": "986b58a4-2a1d-4d16-b665-9bc9750f077e",
   "metadata": {},
   "outputs": [],
   "source": [
    "# This is my project draft"
   ]
  }
 ],
 "metadata": {
  "kernelspec": {
   "display_name": "Python 3 (ipykernel)",
   "language": "python",
   "name": "python3"
  },
  "language_info": {
   "codemirror_mode": {
    "name": "ipython",
    "version": 3
   },
   "file_extension": ".py",
   "mimetype": "text/x-python",
   "name": "python",
   "nbconvert_exporter": "python",
   "pygments_lexer": "ipython3",
   "version": "3.12.4"
  }
 },
 "nbformat": 4,
 "nbformat_minor": 5
}
