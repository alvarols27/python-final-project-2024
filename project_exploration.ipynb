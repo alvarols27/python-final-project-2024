{
 "cells": [
  {
   "cell_type": "code",
   "execution_count": null,
   "id": "986b58a4-2a1d-4d16-b665-9bc9750f077e",
   "metadata": {},
   "outputs": [],
   "source": [
    "# This is my project draft"
   ]
  },
  {
   "cell_type": "code",
   "execution_count": null,
   "id": "2b023583-777b-48d9-97ba-0190a438c61b",
   "metadata": {},
   "outputs": [],
   "source": [
    "# After having installed the Datetime and Matplotlib techs..."
   ]
  },
  {
   "cell_type": "code",
   "execution_count": null,
   "id": "8c3cd4f0-d7a1-491d-b1b9-950a29257a88",
   "metadata": {},
   "outputs": [],
   "source": [
    "# Define functions"
   ]
  },
  {
   "cell_type": "code",
   "execution_count": 46,
   "id": "b79ee80c-f8d0-4806-b28b-c5dbf5457820",
   "metadata": {},
   "outputs": [
    {
     "name": "stdout",
     "output_type": "stream",
     "text": [
      "\n",
      "Personal Budget Manager\n",
      "1. Add Transaction\n",
      "2. View Transactions\n",
      "3. Visualize Spending\n",
      "4. Edit Transaction\n",
      "5. Delete Transaction\n",
      "6. Filter Transactions by Date\n",
      "7. Exit\n"
     ]
    },
    {
     "name": "stdin",
     "output_type": "stream",
     "text": [
      "Choose an option:  7\n",
      "Are you sure you want to exit(Yes/No)? no\n"
     ]
    },
    {
     "name": "stdout",
     "output_type": "stream",
     "text": [
      "Returning to the menu...\n",
      "\n",
      "Personal Budget Manager\n",
      "1. Add Transaction\n",
      "2. View Transactions\n",
      "3. Visualize Spending\n",
      "4. Edit Transaction\n",
      "5. Delete Transaction\n",
      "6. Filter Transactions by Date\n",
      "7. Exit\n"
     ]
    },
    {
     "name": "stdin",
     "output_type": "stream",
     "text": [
      "Choose an option:  7\n",
      "Are you sure you want to exit(Yes/No)? no\n"
     ]
    },
    {
     "name": "stdout",
     "output_type": "stream",
     "text": [
      "Returning to the menu...\n",
      "\n",
      "Personal Budget Manager\n",
      "1. Add Transaction\n",
      "2. View Transactions\n",
      "3. Visualize Spending\n",
      "4. Edit Transaction\n",
      "5. Delete Transaction\n",
      "6. Filter Transactions by Date\n",
      "7. Exit\n"
     ]
    },
    {
     "name": "stdin",
     "output_type": "stream",
     "text": [
      "Choose an option:  7\n",
      "Are you sure you want to exit(Yes/No)? yes\n"
     ]
    },
    {
     "name": "stdout",
     "output_type": "stream",
     "text": [
      "Exiting the program...\n"
     ]
    }
   ],
   "source": [
    "# def add_transaction(transaction_type, amount, date): DICTIONARY METHOD\n",
    "#     transaction = {\n",
    "#         'type': transaction_type,\n",
    "#         'amount': amount,\n",
    "#         'date': date\n",
    "#     }\n",
    "#     transactions.append(transaction)\n",
    "\n",
    "# def load_transaction():\n",
    "#     return transactions\n",
    "\n",
    "# def visualize_spending(transactions):\n",
    "#     return\n",
    "\n",
    "# def edit_trtansactions(transaction_type, amount, date):\n",
    "#     return\n",
    "\n",
    "# # Method to interact with the user\n",
    "# def main():\n",
    "#     while True:\n",
    "#         print(\"\\nPersonal Budget Manager\")\n",
    "#         print(\"1. Add Transaction\")\n",
    "#         print(\"2. View Transactions\")\n",
    "#         print(\"3. Visualize Spending\")\n",
    "#         print(\"4. Edit Transaction\")\n",
    "#         print(\"5. Delete Transaction\")\n",
    "#         print(\"6. Filter Transactions by Date\")\n",
    "#         print(\"7. Exit\")\n",
    "#         choice = input(\"Choose an option: \")\n",
    "\n",
    "#         if choice == '1':\n",
    "#             while True:\n",
    "#                 transaction_type = input(\"Enter type (Income/Expense/Withdrawal): \").strip().lower()\n",
    "#                 if transaction_type in ['income', 'expense', 'withdrawal']:\n",
    "#                     break\n",
    "#                 else:\n",
    "#                     print(\"Invalid type. Please write 'Income', 'Expense' or 'Withdrawal'\")\n",
    "                \n",
    "#             while True:\n",
    "#                 try:\n",
    "#                     amount = float(input(\"Enter amount: \"))\n",
    "#                     if amount <= 0:\n",
    "#                         print(\"Please insert positive or higher number!\")\n",
    "#                     else:\n",
    "#                         print(f\"Your amount: {amount} is valid\")\n",
    "#                         break\n",
    "#                 except ValueError:\n",
    "#                     print(\"Invalid input. Please enter numbers only\")\n",
    "                \n",
    "#             # category = input(\"Enter category: \") (THINKING ABOUT THIS OPTION YET)\n",
    "            \n",
    "#             date = input(\"Enter date (YYYY-MM-DD): \")\n",
    "            \n",
    "#             add_transaction(transaction_type, amount, date)\n",
    "#             print(\"Transaction added!\")\n",
    "\n",
    "#         # elif choice == '2':\n",
    "#         #    # code...      \n",
    "\n",
    "#         # elif choice == '3':\n",
    "#         #     # code...\n",
    "\n",
    "#         # elif choice == '4':\n",
    "#         #     # code...\n",
    "            \n",
    "#         # elif choice == '5':\n",
    "#         #     # code...\n",
    "            \n",
    "#         # elif choice == '6':\n",
    "#         #     # code...\n",
    "            \n",
    "#         elif choice == '7':\n",
    "#             while True:\n",
    "#                 exit_confirmation = input(\"Are you sure you want to exit(Yes/No)?\").strip().lower()\n",
    "#                 if exit_confirmation == 'yes':\n",
    "#                     print(\"Exiting the program...\")\n",
    "#                     return\n",
    "#                 elif exit_confirmation == 'no':\n",
    "#                     print(\"Returning to the menu...\")\n",
    "#                     break\n",
    "#                 else:\n",
    "#                     print(\"Please write (yes/no) only\")\n",
    "#         else:\n",
    "#             print(\"Please input a valid option from the menu!\")\n",
    "\n",
    "# main()"
   ]
  },
  {
   "cell_type": "code",
   "execution_count": null,
   "id": "ca577549-3a97-4993-8723-2df0a1f12d56",
   "metadata": {},
   "outputs": [],
   "source": []
  }
 ],
 "metadata": {
  "kernelspec": {
   "display_name": "Python 3 (ipykernel)",
   "language": "python",
   "name": "python3"
  },
  "language_info": {
   "codemirror_mode": {
    "name": "ipython",
    "version": 3
   },
   "file_extension": ".py",
   "mimetype": "text/x-python",
   "name": "python",
   "nbconvert_exporter": "python",
   "pygments_lexer": "ipython3",
   "version": "3.12.4"
  }
 },
 "nbformat": 4,
 "nbformat_minor": 5
}
